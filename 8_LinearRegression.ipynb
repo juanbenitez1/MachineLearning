{
 "cells": [
  {
   "cell_type": "markdown",
   "id": "c8c5afa9",
   "metadata": {},
   "source": [
    "# Modelos de Regresión Lineal"
   ]
  },
  {
   "cell_type": "markdown",
   "id": "6b258025",
   "metadata": {},
   "source": [
    "## Modelo con datos simulados"
   ]
  },
  {
   "cell_type": "markdown",
   "id": "0bc5ec5b",
   "metadata": {},
   "source": [
    "* y = a + b * x\n",
    "* X : 100 valores distribuídos según una N(1.5, 2.5)\n",
    "* Ye = 5 + 1.9 * x + e\n",
    "* e estará distribuído según una N(0, 0.8)"
   ]
  },
  {
   "cell_type": "code",
   "execution_count": 1,
   "id": "e71539e7",
   "metadata": {},
   "outputs": [],
   "source": [
    "import pandas as pd\n",
    "import numpy as np"
   ]
  },
  {
   "cell_type": "code",
   "execution_count": 2,
   "id": "00501eb2",
   "metadata": {},
   "outputs": [],
   "source": [
    "x = 1.5 + 2.5 * np.random.randn(100)"
   ]
  },
  {
   "cell_type": "code",
   "execution_count": 3,
   "id": "2504086e",
   "metadata": {},
   "outputs": [],
   "source": [
    "res = 0 + 0.8 * np.random.randn(100)"
   ]
  },
  {
   "cell_type": "code",
   "execution_count": 4,
   "id": "12af8f37",
   "metadata": {},
   "outputs": [],
   "source": [
    "y_pred = 5 + 0.3 * x"
   ]
  },
  {
   "cell_type": "code",
   "execution_count": 5,
   "id": "ec5c71a9",
   "metadata": {},
   "outputs": [],
   "source": [
    "y_act = 5 + 0.3 * x + res"
   ]
  },
  {
   "cell_type": "code",
   "execution_count": 6,
   "id": "ab2a943e",
   "metadata": {},
   "outputs": [],
   "source": [
    "x_list = x.tolist()\n",
    "y_pred_list = y_pred.tolist()\n",
    "y_act_list = y_act.tolist()"
   ]
  },
  {
   "cell_type": "code",
   "execution_count": 7,
   "id": "ff29e18b",
   "metadata": {},
   "outputs": [],
   "source": [
    "data = pd.DataFrame(\n",
    "    {\n",
    "        \"x\":x_list,\n",
    "        \"y_actual\":y_act_list,\n",
    "        \"y_prediccion\":y_pred_list\n",
    "    }\n",
    ")"
   ]
  },
  {
   "cell_type": "code",
   "execution_count": 8,
   "id": "261ffdff",
   "metadata": {},
   "outputs": [
    {
     "data": {
      "text/html": [
       "<div>\n",
       "<style scoped>\n",
       "    .dataframe tbody tr th:only-of-type {\n",
       "        vertical-align: middle;\n",
       "    }\n",
       "\n",
       "    .dataframe tbody tr th {\n",
       "        vertical-align: top;\n",
       "    }\n",
       "\n",
       "    .dataframe thead th {\n",
       "        text-align: right;\n",
       "    }\n",
       "</style>\n",
       "<table border=\"1\" class=\"dataframe\">\n",
       "  <thead>\n",
       "    <tr style=\"text-align: right;\">\n",
       "      <th></th>\n",
       "      <th>x</th>\n",
       "      <th>y_actual</th>\n",
       "      <th>y_prediccion</th>\n",
       "    </tr>\n",
       "  </thead>\n",
       "  <tbody>\n",
       "    <tr>\n",
       "      <th>0</th>\n",
       "      <td>-0.393544</td>\n",
       "      <td>5.195067</td>\n",
       "      <td>4.881937</td>\n",
       "    </tr>\n",
       "    <tr>\n",
       "      <th>1</th>\n",
       "      <td>1.597398</td>\n",
       "      <td>5.884378</td>\n",
       "      <td>5.479219</td>\n",
       "    </tr>\n",
       "    <tr>\n",
       "      <th>2</th>\n",
       "      <td>2.566911</td>\n",
       "      <td>5.080562</td>\n",
       "      <td>5.770073</td>\n",
       "    </tr>\n",
       "    <tr>\n",
       "      <th>3</th>\n",
       "      <td>-0.937294</td>\n",
       "      <td>4.275025</td>\n",
       "      <td>4.718812</td>\n",
       "    </tr>\n",
       "    <tr>\n",
       "      <th>4</th>\n",
       "      <td>-2.377825</td>\n",
       "      <td>5.503776</td>\n",
       "      <td>4.286653</td>\n",
       "    </tr>\n",
       "  </tbody>\n",
       "</table>\n",
       "</div>"
      ],
      "text/plain": [
       "          x  y_actual  y_prediccion\n",
       "0 -0.393544  5.195067      4.881937\n",
       "1  1.597398  5.884378      5.479219\n",
       "2  2.566911  5.080562      5.770073\n",
       "3 -0.937294  4.275025      4.718812\n",
       "4 -2.377825  5.503776      4.286653"
      ]
     },
     "execution_count": 8,
     "metadata": {},
     "output_type": "execute_result"
    }
   ],
   "source": [
    "data.head()"
   ]
  },
  {
   "cell_type": "code",
   "execution_count": 9,
   "id": "d24d8ee2",
   "metadata": {},
   "outputs": [],
   "source": [
    "import matplotlib.pyplot as plt"
   ]
  },
  {
   "cell_type": "code",
   "execution_count": 10,
   "id": "47e7e24b",
   "metadata": {},
   "outputs": [],
   "source": [
    "y_mean = [np.mean(y_act) for i in range(1, len(x_list) + 1)]"
   ]
  },
  {
   "cell_type": "code",
   "execution_count": 11,
   "id": "bb1a0c05",
   "metadata": {},
   "outputs": [
    {
     "data": {
      "text/plain": [
       "Text(0.5, 1.0, 'Valor Actual vs Predicción')"
      ]
     },
     "execution_count": 11,
     "metadata": {},
     "output_type": "execute_result"
    },
    {
     "data": {
      "image/png": "[encoded data removed]",
      "text/plain": [
       "<Figure size 640x480 with 1 Axes>"
      ]
     },
     "metadata": {},
     "output_type": "display_data"
    }
   ],
   "source": [
    "%matplotlib inline\n",
    "plt.plot(data[\"x\"],data[\"y_prediccion\"])\n",
    "plt.plot(data[\"x\"], data[\"y_actual\"], \"ro\")\n",
    "plt.plot(data[\"x\"],y_mean, \"g\")\n",
    "plt.title(\"Valor Actual vs Predicción\")"
   ]
  },
  {
   "cell_type": "markdown",
   "id": "762f4e7d",
   "metadata": {},
   "source": [
    "## ¿Como es la predicción de buena?"
   ]
  },
  {
   "cell_type": "markdown",
   "id": "ff053ebe",
   "metadata": {},
   "source": [
    "* SST = SSD + SSR\n",
    "* SST : Variabilidad de los datos con respecto de su media\n",
    "* SSD : Diferencia entre los datos originales y las predicciones que el modelo no es capaz de explicar (errores que deberían seguir una distribución normal)\n",
    "* SSR : Diferencia entre la regresión y el valor medio que el modelo busca explicar\n",
    "* R2 = SSR / SST, coeficiente de determinación entre 0 y 1"
   ]
  },
  {
   "cell_type": "code",
   "execution_count": 12,
   "id": "c5e50578",
   "metadata": {},
   "outputs": [],
   "source": [
    "y_m = np.mean(y_act)\n",
    "data[\"SSR\"]=(data[\"y_prediccion\"]-y_m)**2\n",
    "data[\"SSD\"]=(data[\"y_prediccion\"]-data[\"y_actual\"])**2\n",
    "data[\"SST\"]=(data[\"y_actual\"]-y_m)**2"
   ]
  },
  {
   "cell_type": "code",
   "execution_count": 13,
   "id": "cf671a13",
   "metadata": {},
   "outputs": [
    {
     "data": {
      "text/html": [
       "<div>\n",
       "<style scoped>\n",
       "    .dataframe tbody tr th:only-of-type {\n",
       "        vertical-align: middle;\n",
       "    }\n",
       "\n",
       "    .dataframe tbody tr th {\n",
       "        vertical-align: top;\n",
       "    }\n",
       "\n",
       "    .dataframe thead th {\n",
       "        text-align: right;\n",
       "    }\n",
       "</style>\n",
       "<table border=\"1\" class=\"dataframe\">\n",
       "  <thead>\n",
       "    <tr style=\"text-align: right;\">\n",
       "      <th></th>\n",
       "      <th>x</th>\n",
       "      <th>y_actual</th>\n",
       "      <th>y_prediccion</th>\n",
       "      <th>SSR</th>\n",
       "      <th>SSD</th>\n",
       "      <th>SST</th>\n",
       "    </tr>\n",
       "  </thead>\n",
       "  <tbody>\n",
       "    <tr>\n",
       "      <th>0</th>\n",
       "      <td>-0.393544</td>\n",
       "      <td>5.195067</td>\n",
       "      <td>4.881937</td>\n",
       "      <td>0.341193</td>\n",
       "      <td>0.098051</td>\n",
       "      <td>0.073434</td>\n",
       "    </tr>\n",
       "    <tr>\n",
       "      <th>1</th>\n",
       "      <td>1.597398</td>\n",
       "      <td>5.884378</td>\n",
       "      <td>5.479219</td>\n",
       "      <td>0.000173</td>\n",
       "      <td>0.164153</td>\n",
       "      <td>0.174995</td>\n",
       "    </tr>\n",
       "    <tr>\n",
       "      <th>2</th>\n",
       "      <td>2.566911</td>\n",
       "      <td>5.080562</td>\n",
       "      <td>5.770073</td>\n",
       "      <td>0.092428</td>\n",
       "      <td>0.475426</td>\n",
       "      <td>0.148604</td>\n",
       "    </tr>\n",
       "    <tr>\n",
       "      <th>3</th>\n",
       "      <td>-0.937294</td>\n",
       "      <td>4.275025</td>\n",
       "      <td>4.718812</td>\n",
       "      <td>0.558371</td>\n",
       "      <td>0.196947</td>\n",
       "      <td>1.418550</td>\n",
       "    </tr>\n",
       "    <tr>\n",
       "      <th>4</th>\n",
       "      <td>-2.377825</td>\n",
       "      <td>5.503776</td>\n",
       "      <td>4.286653</td>\n",
       "      <td>1.390988</td>\n",
       "      <td>1.481389</td>\n",
       "      <td>0.001423</td>\n",
       "    </tr>\n",
       "  </tbody>\n",
       "</table>\n",
       "</div>"
      ],
      "text/plain": [
       "          x  y_actual  y_prediccion       SSR       SSD       SST\n",
       "0 -0.393544  5.195067      4.881937  0.341193  0.098051  0.073434\n",
       "1  1.597398  5.884378      5.479219  0.000173  0.164153  0.174995\n",
       "2  2.566911  5.080562      5.770073  0.092428  0.475426  0.148604\n",
       "3 -0.937294  4.275025      4.718812  0.558371  0.196947  1.418550\n",
       "4 -2.377825  5.503776      4.286653  1.390988  1.481389  0.001423"
      ]
     },
     "execution_count": 13,
     "metadata": {},
     "output_type": "execute_result"
    }
   ],
   "source": [
    "data.head()"
   ]
  },
  {
   "cell_type": "code",
   "execution_count": 14,
   "id": "7540c480",
   "metadata": {},
   "outputs": [],
   "source": [
    "SSR = sum(data[\"SSR\"])\n",
    "SSD = sum(data[\"SSD\"])\n",
    "SST = sum(data[\"SST\"])"
   ]
  },
  {
   "cell_type": "code",
   "execution_count": 15,
   "id": "3707d7f1",
   "metadata": {},
   "outputs": [
    {
     "data": {
      "text/plain": [
       "65.57496750094232"
      ]
     },
     "execution_count": 15,
     "metadata": {},
     "output_type": "execute_result"
    }
   ],
   "source": [
    "SSR"
   ]
  },
  {
   "cell_type": "code",
   "execution_count": 16,
   "id": "c3239c1d",
   "metadata": {},
   "outputs": [
    {
     "data": {
      "text/plain": [
       "69.21826542561267"
      ]
     },
     "execution_count": 16,
     "metadata": {},
     "output_type": "execute_result"
    }
   ],
   "source": [
    "SSD"
   ]
  },
  {
   "cell_type": "code",
   "execution_count": 17,
   "id": "828cdbb0",
   "metadata": {},
   "outputs": [
    {
     "data": {
      "text/plain": [
       "133.79791085450992"
      ]
     },
     "execution_count": 17,
     "metadata": {},
     "output_type": "execute_result"
    }
   ],
   "source": [
    "SST"
   ]
  },
  {
   "cell_type": "code",
   "execution_count": 18,
   "id": "3985af00",
   "metadata": {},
   "outputs": [
    {
     "data": {
      "text/plain": [
       "134.793232926555"
      ]
     },
     "execution_count": 18,
     "metadata": {},
     "output_type": "execute_result"
    }
   ],
   "source": [
    "SSR+SSD"
   ]
  },
  {
   "cell_type": "code",
   "execution_count": 20,
   "id": "f4b12535",
   "metadata": {},
   "outputs": [
    {
     "data": {
      "text/plain": [
       "0.49010456951190867"
      ]
     },
     "execution_count": 20,
     "metadata": {},
     "output_type": "execute_result"
    }
   ],
   "source": [
    "R2 = SSR/SST\n",
    "R2"
   ]
  },
  {
   "cell_type": "code",
   "execution_count": 21,
   "id": "de6de664",
   "metadata": {},
   "outputs": [
    {
     "data": {
      "text/plain": [
       "(array([ 2.,  8.,  9., 19., 17., 11., 21.,  5.,  7.,  1.]),\n",
       " array([-2.00325489, -1.60535614, -1.20745739, -0.80955863, -0.41165988,\n",
       "        -0.01376113,  0.38413762,  0.78203638,  1.17993513,  1.57783388,\n",
       "         1.97573263]),\n",
       " <BarContainer object of 10 artists>)"
      ]
     },
     "execution_count": 21,
     "metadata": {},
     "output_type": "execute_result"
    },
    {
     "data": {
      "image/png": "[encoded data removed]",
      "text/plain": [
       "<Figure size 640x480 with 1 Axes>"
      ]
     },
     "metadata": {},
     "output_type": "display_data"
    }
   ],
   "source": [
    "plt.hist(data[\"y_prediccion\"]-data[\"y_actual\"])"
   ]
  },
  {
   "cell_type": "markdown",
   "id": "7c9fab7c",
   "metadata": {},
   "source": [
    "## Obteniendo la recta de regresión"
   ]
  },
  {
   "cell_type": "markdown",
   "id": "04bd15b5",
   "metadata": {},
   "source": [
    "* y = a + b * x\n",
    "* b = sum((xi - x_m)*(y_i-y_m))/sum((xi-x_m)^2)\n",
    "* a = y_m - b * x_m"
   ]
  },
  {
   "cell_type": "code",
   "execution_count": 22,
   "id": "bc301ecb",
   "metadata": {},
   "outputs": [
    {
     "data": {
      "text/plain": [
       "(1.2533775312337168, 5.4660541797762905)"
      ]
     },
     "execution_count": 22,
     "metadata": {},
     "output_type": "execute_result"
    }
   ],
   "source": [
    "x_mean = np.mean(data[\"x\"])\n",
    "y_mean = np.mean(data[\"y_actual\"])\n",
    "x_mean, y_mean"
   ]
  },
  {
   "cell_type": "code",
   "execution_count": 23,
   "id": "d462940f",
   "metadata": {},
   "outputs": [],
   "source": [
    "data[\"beta_n\"] = (data[\"x\"]-x_mean)*(data[\"y_actual\"]-y_mean)\n",
    "data[\"beta_d\"] = (data[\"x\"]-x_mean)**2"
   ]
  },
  {
   "cell_type": "code",
   "execution_count": 24,
   "id": "cfcb33d8",
   "metadata": {},
   "outputs": [],
   "source": [
    "beta = sum(data[\"beta_n\"])/sum(data[\"beta_d\"])"
   ]
  },
  {
   "cell_type": "code",
   "execution_count": 25,
   "id": "fd646a53",
   "metadata": {},
   "outputs": [],
   "source": [
    "alpha = y_mean - beta * x_mean"
   ]
  },
  {
   "cell_type": "code",
   "execution_count": 26,
   "id": "88599a9d",
   "metadata": {},
   "outputs": [
    {
     "data": {
      "text/plain": [
       "(5.088223240916759, 0.3014502250472188)"
      ]
     },
     "execution_count": 26,
     "metadata": {},
     "output_type": "execute_result"
    }
   ],
   "source": [
    "alpha, beta"
   ]
  },
  {
   "cell_type": "markdown",
   "id": "d1eda82b",
   "metadata": {},
   "source": [
    "El modelo lineal obtenido por regresión es: y = 5.088223240916759 + 0.3014502250472188 * x"
   ]
  },
  {
   "cell_type": "code",
   "execution_count": 27,
   "id": "d6297083",
   "metadata": {},
   "outputs": [],
   "source": [
    "data[\"y_model\"] = alpha + beta * data[\"x\"]"
   ]
  },
  {
   "cell_type": "code",
   "execution_count": 28,
   "id": "8a1fad26",
   "metadata": {},
   "outputs": [
    {
     "data": {
      "text/html": [
       "<div>\n",
       "<style scoped>\n",
       "    .dataframe tbody tr th:only-of-type {\n",
       "        vertical-align: middle;\n",
       "    }\n",
       "\n",
       "    .dataframe tbody tr th {\n",
       "        vertical-align: top;\n",
       "    }\n",
       "\n",
       "    .dataframe thead th {\n",
       "        text-align: right;\n",
       "    }\n",
       "</style>\n",
       "<table border=\"1\" class=\"dataframe\">\n",
       "  <thead>\n",
       "    <tr style=\"text-align: right;\">\n",
       "      <th></th>\n",
       "      <th>x</th>\n",
       "      <th>y_actual</th>\n",
       "      <th>y_prediccion</th>\n",
       "      <th>SSR</th>\n",
       "      <th>SSD</th>\n",
       "      <th>SST</th>\n",
       "      <th>beta_n</th>\n",
       "      <th>beta_d</th>\n",
       "      <th>y_model</th>\n",
       "    </tr>\n",
       "  </thead>\n",
       "  <tbody>\n",
       "    <tr>\n",
       "      <th>0</th>\n",
       "      <td>-0.393544</td>\n",
       "      <td>5.195067</td>\n",
       "      <td>4.881937</td>\n",
       "      <td>0.341193</td>\n",
       "      <td>0.098051</td>\n",
       "      <td>0.073434</td>\n",
       "      <td>0.446294</td>\n",
       "      <td>2.712352</td>\n",
       "      <td>4.969589</td>\n",
       "    </tr>\n",
       "    <tr>\n",
       "      <th>1</th>\n",
       "      <td>1.597398</td>\n",
       "      <td>5.884378</td>\n",
       "      <td>5.479219</td>\n",
       "      <td>0.000173</td>\n",
       "      <td>0.164153</td>\n",
       "      <td>0.174995</td>\n",
       "      <td>0.143912</td>\n",
       "      <td>0.118350</td>\n",
       "      <td>5.569759</td>\n",
       "    </tr>\n",
       "    <tr>\n",
       "      <th>2</th>\n",
       "      <td>2.566911</td>\n",
       "      <td>5.080562</td>\n",
       "      <td>5.770073</td>\n",
       "      <td>0.092428</td>\n",
       "      <td>0.475426</td>\n",
       "      <td>0.148604</td>\n",
       "      <td>-0.506357</td>\n",
       "      <td>1.725370</td>\n",
       "      <td>5.862019</td>\n",
       "    </tr>\n",
       "    <tr>\n",
       "      <th>3</th>\n",
       "      <td>-0.937294</td>\n",
       "      <td>4.275025</td>\n",
       "      <td>4.718812</td>\n",
       "      <td>0.558371</td>\n",
       "      <td>0.196947</td>\n",
       "      <td>1.418550</td>\n",
       "      <td>2.609153</td>\n",
       "      <td>4.799040</td>\n",
       "      <td>4.805676</td>\n",
       "    </tr>\n",
       "    <tr>\n",
       "      <th>4</th>\n",
       "      <td>-2.377825</td>\n",
       "      <td>5.503776</td>\n",
       "      <td>4.286653</td>\n",
       "      <td>1.390988</td>\n",
       "      <td>1.481389</td>\n",
       "      <td>0.001423</td>\n",
       "      <td>-0.136975</td>\n",
       "      <td>13.185631</td>\n",
       "      <td>4.371427</td>\n",
       "    </tr>\n",
       "  </tbody>\n",
       "</table>\n",
       "</div>"
      ],
      "text/plain": [
       "          x  y_actual  y_prediccion       SSR       SSD       SST    beta_n  \\\n",
       "0 -0.393544  5.195067      4.881937  0.341193  0.098051  0.073434  0.446294   \n",
       "1  1.597398  5.884378      5.479219  0.000173  0.164153  0.174995  0.143912   \n",
       "2  2.566911  5.080562      5.770073  0.092428  0.475426  0.148604 -0.506357   \n",
       "3 -0.937294  4.275025      4.718812  0.558371  0.196947  1.418550  2.609153   \n",
       "4 -2.377825  5.503776      4.286653  1.390988  1.481389  0.001423 -0.136975   \n",
       "\n",
       "      beta_d   y_model  \n",
       "0   2.712352  4.969589  \n",
       "1   0.118350  5.569759  \n",
       "2   1.725370  5.862019  \n",
       "3   4.799040  4.805676  \n",
       "4  13.185631  4.371427  "
      ]
     },
     "execution_count": 28,
     "metadata": {},
     "output_type": "execute_result"
    }
   ],
   "source": [
    "data.head()"
   ]
  },
  {
   "cell_type": "code",
   "execution_count": 29,
   "id": "4674aede",
   "metadata": {},
   "outputs": [],
   "source": [
    "SSR = sum((data[\"y_model\"]-y_mean)**2)\n",
    "SSD = sum((data[\"y_model\"]-data[\"y_actual\"])**2)\n",
    "SST = sum((data[\"y_actual\"]-y_mean)**2)"
   ]
  },
  {
   "cell_type": "code",
   "execution_count": 30,
   "id": "425cfd1c",
   "metadata": {},
   "outputs": [
    {
     "data": {
      "text/plain": [
       "(65.39189559772302, 68.40601525678696, 133.79791085450992)"
      ]
     },
     "execution_count": 30,
     "metadata": {},
     "output_type": "execute_result"
    }
   ],
   "source": [
    "SSR, SSD, SST"
   ]
  },
  {
   "cell_type": "code",
   "execution_count": 31,
   "id": "17a30d4c",
   "metadata": {},
   "outputs": [
    {
     "data": {
      "text/plain": [
       "0.4887362977500396"
      ]
     },
     "execution_count": 31,
     "metadata": {},
     "output_type": "execute_result"
    }
   ],
   "source": [
    "R2 = SSR / SST\n",
    "R2"
   ]
  },
  {
   "cell_type": "code",
   "execution_count": 32,
   "id": "726767ca",
   "metadata": {},
   "outputs": [
    {
     "data": {
      "text/plain": [
       "Text(0.5, 1.0, 'Valor Actual vs Predicción')"
      ]
     },
     "execution_count": 32,
     "metadata": {},
     "output_type": "execute_result"
    },
    {
     "data": {
      "image/png": "[encoded data removed]",
      "text/plain": [
       "<Figure size 640x480 with 1 Axes>"
      ]
     },
     "metadata": {},
     "output_type": "display_data"
    }
   ],
   "source": [
    "y_mean = [np.mean(y_act) for i in range(1, len(x_list) + 1)]\n",
    "\n",
    "%matplotlib inline\n",
    "plt.plot(data[\"x\"],data[\"y_prediccion\"])\n",
    "plt.plot(data[\"x\"], data[\"y_actual\"], \"ro\")\n",
    "plt.plot(data[\"x\"],y_mean, \"g\")\n",
    "plt.plot(data[\"x\"], data[\"y_model\"])\n",
    "plt.title(\"Valor Actual vs Predicción\")"
   ]
  },
  {
   "cell_type": "markdown",
   "id": "50c07c0c",
   "metadata": {},
   "source": [
    "## Error estándar de los residuos (RSE)"
   ]
  },
  {
   "cell_type": "code",
   "execution_count": 33,
   "id": "d626ea0d",
   "metadata": {},
   "outputs": [
    {
     "data": {
      "text/plain": [
       "0.8354762497191436"
      ]
     },
     "execution_count": 33,
     "metadata": {},
     "output_type": "execute_result"
    }
   ],
   "source": [
    "RSE = np.sqrt(SSD/(len(data)-2))\n",
    "RSE"
   ]
  },
  {
   "cell_type": "code",
   "execution_count": 34,
   "id": "70be169e",
   "metadata": {},
   "outputs": [
    {
     "data": {
      "text/plain": [
       "5.4660541797762905"
      ]
     },
     "execution_count": 34,
     "metadata": {},
     "output_type": "execute_result"
    }
   ],
   "source": [
    "np.mean(data[\"y_actual\"])"
   ]
  },
  {
   "cell_type": "code",
   "execution_count": 35,
   "id": "4a432e02",
   "metadata": {},
   "outputs": [
    {
     "data": {
      "text/plain": [
       "0.15284814643994935"
      ]
     },
     "execution_count": 35,
     "metadata": {},
     "output_type": "execute_result"
    }
   ],
   "source": [
    "RSE / np.mean(data[\"y_actual\"])"
   ]
  }
 ],
 "metadata": {
  "kernelspec": {
   "display_name": "Python 3 (ipykernel)",
   "language": "python",
   "name": "python3"
  },
  "language_info": {
   "codemirror_mode": {
    "name": "ipython",
    "version": 3
   },
   "file_extension": ".py",
   "mimetype": "text/x-python",
   "name": "python",
   "nbconvert_exporter": "python",
   "pygments_lexer": "ipython3",
   "version": "3.11.4"
  }
 },
 "nbformat": 4,
 "nbformat_minor": 5
}
